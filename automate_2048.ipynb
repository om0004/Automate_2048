{
 "cells": [
  {
   "cell_type": "code",
   "execution_count": 3,
   "metadata": {},
   "outputs": [
    {
     "name": "stdout",
     "output_type": "stream",
     "text": [
      "your score is:1760\n"
     ]
    }
   ],
   "source": [
    "from selenium import webdriver\n",
    "from selenium.webdriver.common.keys import Keys\n",
    "import random,time\n",
    "browser = webdriver.Chrome()\n",
    "browser.get(r\"https://gabrielecirulli.github.io/2048/\")\n",
    "time.sleep(2)\n",
    "buttons=[Keys.UP,Keys.DOWN,Keys.LEFT,Keys.RIGHT]\n",
    "body=browser.find_element_by_css_selector('html')\n",
    "end=browser.find_element_by_class_name('game-container p')\n",
    "while end.text!='Game over!':\n",
    "    body.send_keys(random.choice(buttons))\n",
    "    end=browser.find_element_by_class_name('game-container p')\n",
    "score=browser.find_element_by_class_name('score-container').text\n",
    "print(\"your score is:\"+str(score))"
   ]
  },
  {
   "cell_type": "code",
   "execution_count": null,
   "metadata": {},
   "outputs": [],
   "source": []
  }
 ],
 "metadata": {
  "kernelspec": {
   "display_name": "Python 3",
   "language": "python",
   "name": "python3"
  },
  "language_info": {
   "codemirror_mode": {
    "name": "ipython",
    "version": 3
   },
   "file_extension": ".py",
   "mimetype": "text/x-python",
   "name": "python",
   "nbconvert_exporter": "python",
   "pygments_lexer": "ipython3",
   "version": "3.9.0"
  }
 },
 "nbformat": 4,
 "nbformat_minor": 4
}
